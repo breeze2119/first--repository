{
 "cells": [
  {
   "cell_type": "code",
   "execution_count": 1,
   "id": "1b1fcfd7",
   "metadata": {
    "_cell_guid": "b1076dfc-b9ad-4769-8c92-a6c4dae69d19",
    "_uuid": "8f2839f25d086af736a60e9eeb907d3b93b6e0e5",
    "execution": {
     "iopub.execute_input": "2024-11-20T12:37:36.873784Z",
     "iopub.status.busy": "2024-11-20T12:37:36.873382Z",
     "iopub.status.idle": "2024-11-20T12:37:37.889021Z",
     "shell.execute_reply": "2024-11-20T12:37:37.887524Z"
    },
    "papermill": {
     "duration": 1.027791,
     "end_time": "2024-11-20T12:37:37.891813",
     "exception": false,
     "start_time": "2024-11-20T12:37:36.864022",
     "status": "completed"
    },
    "tags": []
   },
   "outputs": [
    {
     "name": "stdout",
     "output_type": "stream",
     "text": [
      "/kaggle/input/aiffel-ds-3-house-prices/sample_submission.csv\n",
      "/kaggle/input/aiffel-ds-3-house-prices/train.csv\n",
      "/kaggle/input/aiffel-ds-3-house-prices/test.csv\n"
     ]
    }
   ],
   "source": [
    "# This Python 3 environment comes with many helpful analytics libraries installed\n",
    "# It is defined by the kaggle/python Docker image: https://github.com/kaggle/docker-python\n",
    "# For example, here's several helpful packages to load\n",
    "\n",
    "import numpy as np # linear algebra\n",
    "import pandas as pd # data processing, CSV file I/O (e.g. pd.read_csv)\n",
    "\n",
    "# Input data files are available in the read-only \"../input/\" directory\n",
    "# For example, running this (by clicking run or pressing Shift+Enter) will list all files under the input directory\n",
    "\n",
    "import os\n",
    "for dirname, _, filenames in os.walk('/kaggle/input'):\n",
    "    for filename in filenames:\n",
    "        print(os.path.join(dirname, filename))\n",
    "\n",
    "# You can write up to 20GB to the current directory (/kaggle/working/) that gets preserved as output when you create a version using \"Save & Run All\" \n",
    "# You can also write temporary files to /kaggle/temp/, but they won't be saved outside of the current session"
   ]
  },
  {
   "cell_type": "code",
   "execution_count": 2,
   "id": "5adfeff2",
   "metadata": {
    "execution": {
     "iopub.execute_input": "2024-11-20T12:37:37.907765Z",
     "iopub.status.busy": "2024-11-20T12:37:37.907096Z",
     "iopub.status.idle": "2024-11-20T12:37:37.976986Z",
     "shell.execute_reply": "2024-11-20T12:37:37.975826Z"
    },
    "papermill": {
     "duration": 0.080663,
     "end_time": "2024-11-20T12:37:37.979533",
     "exception": false,
     "start_time": "2024-11-20T12:37:37.898870",
     "status": "completed"
    },
    "tags": []
   },
   "outputs": [],
   "source": [
    "train = pd.read_csv(\"/kaggle/input/aiffel-ds-3-house-prices/train.csv\") \n",
    "test = pd.read_csv(\"/kaggle/input/aiffel-ds-3-house-prices/test.csv\")\n",
    "submission = pd.read_csv(\"/kaggle/input/aiffel-ds-3-house-prices/sample_submission.csv\")\n",
    "\n"
   ]
  },
  {
   "cell_type": "code",
   "execution_count": 3,
   "id": "ee9d1a15",
   "metadata": {
    "execution": {
     "iopub.execute_input": "2024-11-20T12:37:37.995130Z",
     "iopub.status.busy": "2024-11-20T12:37:37.993924Z",
     "iopub.status.idle": "2024-11-20T12:37:39.795497Z",
     "shell.execute_reply": "2024-11-20T12:37:39.794421Z"
    },
    "papermill": {
     "duration": 1.811743,
     "end_time": "2024-11-20T12:37:39.797998",
     "exception": false,
     "start_time": "2024-11-20T12:37:37.986255",
     "status": "completed"
    },
    "tags": []
   },
   "outputs": [
    {
     "data": {
      "text/html": [
       "<div>\n",
       "<style scoped>\n",
       "    .dataframe tbody tr th:only-of-type {\n",
       "        vertical-align: middle;\n",
       "    }\n",
       "\n",
       "    .dataframe tbody tr th {\n",
       "        vertical-align: top;\n",
       "    }\n",
       "\n",
       "    .dataframe thead th {\n",
       "        text-align: right;\n",
       "    }\n",
       "</style>\n",
       "<table border=\"1\" class=\"dataframe\">\n",
       "  <thead>\n",
       "    <tr style=\"text-align: right;\">\n",
       "      <th></th>\n",
       "      <th>Id</th>\n",
       "      <th>MSSubClass</th>\n",
       "      <th>MSZoning</th>\n",
       "      <th>LotFrontage</th>\n",
       "      <th>LotArea</th>\n",
       "      <th>Street</th>\n",
       "      <th>Alley</th>\n",
       "      <th>LotShape</th>\n",
       "      <th>LandContour</th>\n",
       "      <th>Utilities</th>\n",
       "      <th>...</th>\n",
       "      <th>PoolArea</th>\n",
       "      <th>PoolQC</th>\n",
       "      <th>Fence</th>\n",
       "      <th>MiscFeature</th>\n",
       "      <th>MiscVal</th>\n",
       "      <th>MoSold</th>\n",
       "      <th>YrSold</th>\n",
       "      <th>SaleType</th>\n",
       "      <th>SaleCondition</th>\n",
       "      <th>SalePrice</th>\n",
       "    </tr>\n",
       "  </thead>\n",
       "  <tbody>\n",
       "    <tr>\n",
       "      <th>0</th>\n",
       "      <td>968</td>\n",
       "      <td>20</td>\n",
       "      <td>RL</td>\n",
       "      <td>NaN</td>\n",
       "      <td>7390</td>\n",
       "      <td>Pave</td>\n",
       "      <td>NaN</td>\n",
       "      <td>IR1</td>\n",
       "      <td>Lvl</td>\n",
       "      <td>AllPub</td>\n",
       "      <td>...</td>\n",
       "      <td>0</td>\n",
       "      <td>NaN</td>\n",
       "      <td>NaN</td>\n",
       "      <td>NaN</td>\n",
       "      <td>0</td>\n",
       "      <td>7</td>\n",
       "      <td>2008</td>\n",
       "      <td>WD</td>\n",
       "      <td>Normal</td>\n",
       "      <td>135000</td>\n",
       "    </tr>\n",
       "    <tr>\n",
       "      <th>1</th>\n",
       "      <td>739</td>\n",
       "      <td>90</td>\n",
       "      <td>RL</td>\n",
       "      <td>60.0</td>\n",
       "      <td>10800</td>\n",
       "      <td>Pave</td>\n",
       "      <td>NaN</td>\n",
       "      <td>Reg</td>\n",
       "      <td>Lvl</td>\n",
       "      <td>AllPub</td>\n",
       "      <td>...</td>\n",
       "      <td>0</td>\n",
       "      <td>NaN</td>\n",
       "      <td>NaN</td>\n",
       "      <td>NaN</td>\n",
       "      <td>0</td>\n",
       "      <td>3</td>\n",
       "      <td>2009</td>\n",
       "      <td>WD</td>\n",
       "      <td>Alloca</td>\n",
       "      <td>179000</td>\n",
       "    </tr>\n",
       "    <tr>\n",
       "      <th>2</th>\n",
       "      <td>696</td>\n",
       "      <td>20</td>\n",
       "      <td>RL</td>\n",
       "      <td>54.0</td>\n",
       "      <td>13811</td>\n",
       "      <td>Pave</td>\n",
       "      <td>NaN</td>\n",
       "      <td>IR1</td>\n",
       "      <td>Lvl</td>\n",
       "      <td>AllPub</td>\n",
       "      <td>...</td>\n",
       "      <td>0</td>\n",
       "      <td>NaN</td>\n",
       "      <td>NaN</td>\n",
       "      <td>NaN</td>\n",
       "      <td>0</td>\n",
       "      <td>7</td>\n",
       "      <td>2006</td>\n",
       "      <td>WD</td>\n",
       "      <td>Normal</td>\n",
       "      <td>176000</td>\n",
       "    </tr>\n",
       "  </tbody>\n",
       "</table>\n",
       "<p>3 rows × 81 columns</p>\n",
       "</div>"
      ],
      "text/plain": [
       "    Id  MSSubClass MSZoning  LotFrontage  LotArea Street Alley LotShape  \\\n",
       "0  968          20       RL          NaN     7390   Pave   NaN      IR1   \n",
       "1  739          90       RL         60.0    10800   Pave   NaN      Reg   \n",
       "2  696          20       RL         54.0    13811   Pave   NaN      IR1   \n",
       "\n",
       "  LandContour Utilities  ... PoolArea PoolQC Fence MiscFeature MiscVal MoSold  \\\n",
       "0         Lvl    AllPub  ...        0    NaN   NaN         NaN       0      7   \n",
       "1         Lvl    AllPub  ...        0    NaN   NaN         NaN       0      3   \n",
       "2         Lvl    AllPub  ...        0    NaN   NaN         NaN       0      7   \n",
       "\n",
       "  YrSold  SaleType  SaleCondition  SalePrice  \n",
       "0   2008        WD         Normal     135000  \n",
       "1   2009        WD         Alloca     179000  \n",
       "2   2006        WD         Normal     176000  \n",
       "\n",
       "[3 rows x 81 columns]"
      ]
     },
     "execution_count": 3,
     "metadata": {},
     "output_type": "execute_result"
    }
   ],
   "source": [
    "import seaborn as sns\n",
    "import matplotlib.pyplot as plt\n",
    "\n",
    "import warnings \n",
    "warnings.filterwarnings('ignore')\n",
    "\n",
    "train_df=train.copy()\n",
    "train_df.head(3)\n"
   ]
  },
  {
   "cell_type": "code",
   "execution_count": 4,
   "id": "01276cf0",
   "metadata": {
    "execution": {
     "iopub.execute_input": "2024-11-20T12:37:39.813143Z",
     "iopub.status.busy": "2024-11-20T12:37:39.812558Z",
     "iopub.status.idle": "2024-11-20T12:37:39.819134Z",
     "shell.execute_reply": "2024-11-20T12:37:39.818109Z"
    },
    "papermill": {
     "duration": 0.016575,
     "end_time": "2024-11-20T12:37:39.821375",
     "exception": false,
     "start_time": "2024-11-20T12:37:39.804800",
     "status": "completed"
    },
    "tags": []
   },
   "outputs": [
    {
     "data": {
      "text/plain": [
       "(1168, 81)"
      ]
     },
     "execution_count": 4,
     "metadata": {},
     "output_type": "execute_result"
    }
   ],
   "source": [
    "train_df.shape\n",
    "\n"
   ]
  },
  {
   "cell_type": "code",
   "execution_count": 5,
   "id": "abf75eee",
   "metadata": {
    "execution": {
     "iopub.execute_input": "2024-11-20T12:37:39.837439Z",
     "iopub.status.busy": "2024-11-20T12:37:39.837020Z",
     "iopub.status.idle": "2024-11-20T12:37:39.843612Z",
     "shell.execute_reply": "2024-11-20T12:37:39.842621Z"
    },
    "papermill": {
     "duration": 0.016261,
     "end_time": "2024-11-20T12:37:39.845460",
     "exception": false,
     "start_time": "2024-11-20T12:37:39.829199",
     "status": "completed"
    },
    "tags": []
   },
   "outputs": [
    {
     "data": {
      "text/plain": [
       "(292, 80)"
      ]
     },
     "execution_count": 5,
     "metadata": {},
     "output_type": "execute_result"
    }
   ],
   "source": [
    "test.shape"
   ]
  },
  {
   "cell_type": "code",
   "execution_count": 6,
   "id": "21a336e0",
   "metadata": {
    "execution": {
     "iopub.execute_input": "2024-11-20T12:37:39.861098Z",
     "iopub.status.busy": "2024-11-20T12:37:39.860361Z",
     "iopub.status.idle": "2024-11-20T12:37:39.875174Z",
     "shell.execute_reply": "2024-11-20T12:37:39.874071Z"
    },
    "papermill": {
     "duration": 0.025118,
     "end_time": "2024-11-20T12:37:39.877442",
     "exception": false,
     "start_time": "2024-11-20T12:37:39.852324",
     "status": "completed"
    },
    "tags": []
   },
   "outputs": [
    {
     "data": {
      "text/plain": [
       "object     43\n",
       "int64      35\n",
       "float64     3\n",
       "Name: count, dtype: int64"
      ]
     },
     "execution_count": 6,
     "metadata": {},
     "output_type": "execute_result"
    }
   ],
   "source": [
    "train_df.dtypes.value_counts()\n"
   ]
  },
  {
   "cell_type": "code",
   "execution_count": 7,
   "id": "0ceb6b10",
   "metadata": {
    "execution": {
     "iopub.execute_input": "2024-11-20T12:37:39.893239Z",
     "iopub.status.busy": "2024-11-20T12:37:39.892846Z",
     "iopub.status.idle": "2024-11-20T12:37:39.901098Z",
     "shell.execute_reply": "2024-11-20T12:37:39.900095Z"
    },
    "papermill": {
     "duration": 0.018549,
     "end_time": "2024-11-20T12:37:39.903144",
     "exception": false,
     "start_time": "2024-11-20T12:37:39.884595",
     "status": "completed"
    },
    "tags": []
   },
   "outputs": [
    {
     "data": {
      "text/plain": [
       "(1168, 43)"
      ]
     },
     "execution_count": 7,
     "metadata": {},
     "output_type": "execute_result"
    }
   ],
   "source": [
    "train_df_obj=train_df.select_dtypes(include='object')\n",
    "train_df_obj.shape"
   ]
  },
  {
   "cell_type": "code",
   "execution_count": 8,
   "id": "06f09c4c",
   "metadata": {
    "execution": {
     "iopub.execute_input": "2024-11-20T12:37:39.918779Z",
     "iopub.status.busy": "2024-11-20T12:37:39.918337Z",
     "iopub.status.idle": "2024-11-20T12:37:39.925985Z",
     "shell.execute_reply": "2024-11-20T12:37:39.925071Z"
    },
    "papermill": {
     "duration": 0.017683,
     "end_time": "2024-11-20T12:37:39.927970",
     "exception": false,
     "start_time": "2024-11-20T12:37:39.910287",
     "status": "completed"
    },
    "tags": []
   },
   "outputs": [
    {
     "data": {
      "text/plain": [
       "(1168, 38)"
      ]
     },
     "execution_count": 8,
     "metadata": {},
     "output_type": "execute_result"
    }
   ],
   "source": [
    "train_df_num=train_df.select_dtypes(exclude='object')\n",
    "train_df_num.shape"
   ]
  },
  {
   "cell_type": "code",
   "execution_count": 9,
   "id": "ba5e57b1",
   "metadata": {
    "execution": {
     "iopub.execute_input": "2024-11-20T12:37:39.948987Z",
     "iopub.status.busy": "2024-11-20T12:37:39.948541Z",
     "iopub.status.idle": "2024-11-20T12:37:39.956744Z",
     "shell.execute_reply": "2024-11-20T12:37:39.955105Z"
    },
    "papermill": {
     "duration": 0.023415,
     "end_time": "2024-11-20T12:37:39.959114",
     "exception": false,
     "start_time": "2024-11-20T12:37:39.935699",
     "status": "completed"
    },
    "tags": []
   },
   "outputs": [
    {
     "data": {
      "text/plain": [
       "(292, 43)"
      ]
     },
     "execution_count": 9,
     "metadata": {},
     "output_type": "execute_result"
    }
   ],
   "source": [
    "test_obj=test.select_dtypes(include='object')\n",
    "test_obj.shape\n"
   ]
  },
  {
   "cell_type": "code",
   "execution_count": 10,
   "id": "693ee2a3",
   "metadata": {
    "execution": {
     "iopub.execute_input": "2024-11-20T12:37:39.975227Z",
     "iopub.status.busy": "2024-11-20T12:37:39.974807Z",
     "iopub.status.idle": "2024-11-20T12:37:39.983256Z",
     "shell.execute_reply": "2024-11-20T12:37:39.981820Z"
    },
    "papermill": {
     "duration": 0.019151,
     "end_time": "2024-11-20T12:37:39.985574",
     "exception": false,
     "start_time": "2024-11-20T12:37:39.966423",
     "status": "completed"
    },
    "tags": []
   },
   "outputs": [
    {
     "data": {
      "text/plain": [
       "(292, 37)"
      ]
     },
     "execution_count": 10,
     "metadata": {},
     "output_type": "execute_result"
    }
   ],
   "source": [
    "test_num=test.select_dtypes(exclude='object')\n",
    "test_num.shape"
   ]
  },
  {
   "cell_type": "code",
   "execution_count": 11,
   "id": "704e5d8f",
   "metadata": {
    "execution": {
     "iopub.execute_input": "2024-11-20T12:37:40.002473Z",
     "iopub.status.busy": "2024-11-20T12:37:40.002030Z",
     "iopub.status.idle": "2024-11-20T12:37:40.018241Z",
     "shell.execute_reply": "2024-11-20T12:37:40.017143Z"
    },
    "papermill": {
     "duration": 0.027243,
     "end_time": "2024-11-20T12:37:40.020736",
     "exception": false,
     "start_time": "2024-11-20T12:37:39.993493",
     "status": "completed"
    },
    "tags": []
   },
   "outputs": [
    {
     "data": {
      "text/plain": [
       "Id               0.003233\n",
       "MSSubClass      -0.060677\n",
       "LotFrontage      0.321389\n",
       "LotArea          0.251558\n",
       "OverallQual      0.785111\n",
       "OverallCond     -0.059862\n",
       "YearBuilt        0.501762\n",
       "YearRemodAdd     0.504817\n",
       "MasVnrArea       0.469261\n",
       "BsmtFinSF1       0.379606\n",
       "BsmtFinSF2      -0.005127\n",
       "BsmtUnfSF        0.197267\n",
       "TotalBsmtSF      0.595882\n",
       "1stFlrSF         0.597729\n",
       "2ndFlrSF         0.333176\n",
       "LowQualFinSF    -0.007937\n",
       "GrLivArea        0.710178\n",
       "BsmtFullBath     0.209688\n",
       "BsmtHalfBath    -0.005524\n",
       "FullBath         0.577860\n",
       "HalfBath         0.279331\n",
       "BedroomAbvGr     0.186202\n",
       "KitchenAbvGr    -0.132859\n",
       "TotRmsAbvGrd     0.548795\n",
       "Fireplaces       0.475965\n",
       "GarageYrBlt      0.472533\n",
       "GarageCars       0.632622\n",
       "GarageArea       0.618311\n",
       "WoodDeckSF       0.308081\n",
       "OpenPorchSF      0.294805\n",
       "EnclosedPorch   -0.110306\n",
       "3SsnPorch        0.028724\n",
       "ScreenPorch      0.133130\n",
       "PoolArea         0.114399\n",
       "MiscVal         -0.021824\n",
       "MoSold           0.049252\n",
       "YrSold          -0.018160\n",
       "SalePrice        1.000000\n",
       "Name: SalePrice, dtype: float64"
      ]
     },
     "execution_count": 11,
     "metadata": {},
     "output_type": "execute_result"
    }
   ],
   "source": [
    "corr=train_df_num.corr()\n",
    "corr['SalePrice']"
   ]
  },
  {
   "cell_type": "code",
   "execution_count": 12,
   "id": "cc7bbfb8",
   "metadata": {
    "execution": {
     "iopub.execute_input": "2024-11-20T12:37:40.037892Z",
     "iopub.status.busy": "2024-11-20T12:37:40.037072Z",
     "iopub.status.idle": "2024-11-20T12:37:40.046179Z",
     "shell.execute_reply": "2024-11-20T12:37:40.045130Z"
    },
    "papermill": {
     "duration": 0.020131,
     "end_time": "2024-11-20T12:37:40.048529",
     "exception": false,
     "start_time": "2024-11-20T12:37:40.028398",
     "status": "completed"
    },
    "tags": []
   },
   "outputs": [
    {
     "data": {
      "text/plain": [
       "OverallQual     0.785111\n",
       "YearBuilt       0.501762\n",
       "YearRemodAdd    0.504817\n",
       "TotalBsmtSF     0.595882\n",
       "1stFlrSF        0.597729\n",
       "GrLivArea       0.710178\n",
       "FullBath        0.577860\n",
       "TotRmsAbvGrd    0.548795\n",
       "GarageCars      0.632622\n",
       "GarageArea      0.618311\n",
       "SalePrice       1.000000\n",
       "Name: SalePrice, dtype: float64"
      ]
     },
     "execution_count": 12,
     "metadata": {},
     "output_type": "execute_result"
    }
   ],
   "source": [
    "corr['SalePrice'][abs(corr['SalePrice'])>=0.5]"
   ]
  },
  {
   "cell_type": "code",
   "execution_count": 13,
   "id": "0980c5f5",
   "metadata": {
    "execution": {
     "iopub.execute_input": "2024-11-20T12:37:40.065348Z",
     "iopub.status.busy": "2024-11-20T12:37:40.064947Z",
     "iopub.status.idle": "2024-11-20T12:37:40.072110Z",
     "shell.execute_reply": "2024-11-20T12:37:40.071097Z"
    },
    "papermill": {
     "duration": 0.018147,
     "end_time": "2024-11-20T12:37:40.074451",
     "exception": false,
     "start_time": "2024-11-20T12:37:40.056304",
     "status": "completed"
    },
    "tags": []
   },
   "outputs": [
    {
     "data": {
      "text/plain": [
       "['OverallQual',\n",
       " 'YearBuilt',\n",
       " 'YearRemodAdd',\n",
       " 'TotalBsmtSF',\n",
       " '1stFlrSF',\n",
       " 'GrLivArea',\n",
       " 'FullBath',\n",
       " 'TotRmsAbvGrd',\n",
       " 'TotRmsAbvGrd',\n",
       " 'GarageArea',\n",
       " 'SalePrice']"
      ]
     },
     "execution_count": 13,
     "metadata": {},
     "output_type": "execute_result"
    }
   ],
   "source": [
    "high=['OverallQual','YearBuilt','YearRemodAdd','TotalBsmtSF','1stFlrSF','GrLivArea','FullBath','TotRmsAbvGrd','TotRmsAbvGrd','GarageArea','SalePrice']\n",
    "high"
   ]
  },
  {
   "cell_type": "code",
   "execution_count": 14,
   "id": "0621524d",
   "metadata": {
    "execution": {
     "iopub.execute_input": "2024-11-20T12:37:40.092069Z",
     "iopub.status.busy": "2024-11-20T12:37:40.090933Z",
     "iopub.status.idle": "2024-11-20T12:37:40.793175Z",
     "shell.execute_reply": "2024-11-20T12:37:40.792015Z"
    },
    "papermill": {
     "duration": 0.714761,
     "end_time": "2024-11-20T12:37:40.796953",
     "exception": false,
     "start_time": "2024-11-20T12:37:40.082192",
     "status": "completed"
    },
    "tags": []
   },
   "outputs": [
    {
     "data": {
      "text/plain": [
       "<Axes: >"
      ]
     },
     "execution_count": 14,
     "metadata": {},
     "output_type": "execute_result"
    },
    {
     "data": {
      "image/png": "[encoded data removed]",
      "text/plain": [
       "<Figure size 640x480 with 2 Axes>"
      ]
     },
     "metadata": {},
     "output_type": "display_data"
    }
   ],
   "source": [
    "sns.heatmap(train_df_num[high].corr(),annot=True)"
   ]
  },
  {
   "cell_type": "code",
   "execution_count": 15,
   "id": "1bf724a4",
   "metadata": {
    "execution": {
     "iopub.execute_input": "2024-11-20T12:37:40.817741Z",
     "iopub.status.busy": "2024-11-20T12:37:40.817343Z",
     "iopub.status.idle": "2024-11-20T12:37:41.921219Z",
     "shell.execute_reply": "2024-11-20T12:37:41.920141Z"
    },
    "papermill": {
     "duration": 1.118638,
     "end_time": "2024-11-20T12:37:41.925310",
     "exception": false,
     "start_time": "2024-11-20T12:37:40.806672",
     "status": "completed"
    },
    "tags": []
   },
   "outputs": [
    {
     "data": {
      "text/plain": [
       "<Axes: xlabel='YearRemodAdd', ylabel='SalePrice'>"
      ]
     },
     "execution_count": 15,
     "metadata": {},
     "output_type": "execute_result"
    },
    {
     "data": {
      "image/png": "[encoded data removed]",
      "text/plain": [
       "<Figure size 1200x800 with 6 Axes>"
      ]
     },
     "metadata": {},
     "output_type": "display_data"
    }
   ],
   "source": [
    "figure,((ax1,ax2),(ax3,ax4),(ax5,ax6))=plt.subplots(nrows=3,ncols=2)\n",
    "figure.set_size_inches(12,8)\n",
    "sns.regplot(data=train_df,x='OverallQual',y='SalePrice',fit_reg=False,ax=ax1)\n",
    "sns.regplot(data=train_df,x='GarageArea',y='SalePrice',fit_reg=False,ax=ax2)\n",
    "sns.regplot(data=train_df,x='GarageCars',y='SalePrice',fit_reg=False,ax=ax3)\n",
    "sns.regplot(data=train_df,x='TotalBsmtSF',y='SalePrice',fit_reg=False,ax=ax4)\n",
    "sns.regplot(data=train_df,x='YearBuilt',y='SalePrice',fit_reg=False,ax=ax5)\n",
    "sns.regplot(data=train_df,x='YearRemodAdd',y='SalePrice',fit_reg=False,ax=ax6)"
   ]
  },
  {
   "cell_type": "code",
   "execution_count": 16,
   "id": "50e3e7da",
   "metadata": {
    "execution": {
     "iopub.execute_input": "2024-11-20T12:37:41.953448Z",
     "iopub.status.busy": "2024-11-20T12:37:41.952727Z",
     "iopub.status.idle": "2024-11-20T12:37:41.993170Z",
     "shell.execute_reply": "2024-11-20T12:37:41.992057Z"
    },
    "papermill": {
     "duration": 0.058698,
     "end_time": "2024-11-20T12:37:41.997166",
     "exception": false,
     "start_time": "2024-11-20T12:37:41.938468",
     "status": "completed"
    },
    "tags": []
   },
   "outputs": [
    {
     "name": "stdout",
     "output_type": "stream",
     "text": [
      "Id\n",
      "968     1\n",
      "1225    1\n",
      "780     1\n",
      "1105    1\n",
      "1007    1\n",
      "       ..\n",
      "919     1\n",
      "772     1\n",
      "561     1\n",
      "364     1\n",
      "609     1\n",
      "Name: count, Length: 1168, dtype: int64\n",
      "MSSubClass\n",
      "20     428\n",
      "60     235\n",
      "50     107\n",
      "120     72\n",
      "30      59\n",
      "70      52\n",
      "160     49\n",
      "80      47\n",
      "90      42\n",
      "190     24\n",
      "85      17\n",
      "75      14\n",
      "45      11\n",
      "180      8\n",
      "40       3\n",
      "Name: count, dtype: int64\n",
      "LotFrontage\n",
      "60.0     118\n",
      "70.0      54\n",
      "80.0      52\n",
      "50.0      44\n",
      "75.0      42\n",
      "        ... \n",
      "115.0      1\n",
      "152.0      1\n",
      "46.0       1\n",
      "144.0      1\n",
      "137.0      1\n",
      "Name: count, Length: 104, dtype: int64\n",
      "LotArea\n",
      "9600     18\n",
      "7200     17\n",
      "6000     14\n",
      "10800    12\n",
      "9000     12\n",
      "         ..\n",
      "5604      1\n",
      "6342      1\n",
      "7259      1\n",
      "7838      1\n",
      "12168     1\n",
      "Name: count, Length: 906, dtype: int64\n",
      "OverallQual\n",
      "5     319\n",
      "6     296\n",
      "7     267\n",
      "8     129\n",
      "4      92\n",
      "9      33\n",
      "10     15\n",
      "3      12\n",
      "2       3\n",
      "1       2\n",
      "Name: count, dtype: int64\n",
      "OverallCond\n",
      "5    658\n",
      "6    200\n",
      "7    162\n",
      "8     61\n",
      "4     42\n",
      "9     21\n",
      "3     20\n",
      "2      3\n",
      "1      1\n",
      "Name: count, dtype: int64\n",
      "YearBuilt\n",
      "2006    56\n",
      "2005    52\n",
      "2004    46\n",
      "2007    42\n",
      "2003    35\n",
      "        ..\n",
      "1942     1\n",
      "1898     1\n",
      "1893     1\n",
      "1905     1\n",
      "1904     1\n",
      "Name: count, Length: 111, dtype: int64\n",
      "YearRemodAdd\n",
      "1950    141\n",
      "2006     80\n",
      "2007     64\n",
      "2004     58\n",
      "2005     57\n",
      "       ... \n",
      "1983      4\n",
      "1951      4\n",
      "1986      3\n",
      "1952      3\n",
      "1982      2\n",
      "Name: count, Length: 61, dtype: int64\n",
      "MasVnrArea\n",
      "0.0       683\n",
      "72.0        7\n",
      "120.0       7\n",
      "108.0       7\n",
      "106.0       6\n",
      "         ... \n",
      "510.0       1\n",
      "1115.0      1\n",
      "1031.0      1\n",
      "36.0        1\n",
      "479.0       1\n",
      "Name: count, Length: 285, dtype: int64\n",
      "BsmtFinSF1\n",
      "0       376\n",
      "24        9\n",
      "16        8\n",
      "662       5\n",
      "560       4\n",
      "       ... \n",
      "144       1\n",
      "822       1\n",
      "25        1\n",
      "824       1\n",
      "1358      1\n",
      "Name: count, Length: 555, dtype: int64\n",
      "BsmtFinSF2\n",
      "0      1041\n",
      "180       5\n",
      "374       3\n",
      "539       2\n",
      "391       2\n",
      "       ... \n",
      "68        1\n",
      "35        1\n",
      "311       1\n",
      "232       1\n",
      "713       1\n",
      "Name: count, Length: 112, dtype: int64\n",
      "BsmtUnfSF\n",
      "0      89\n",
      "728     9\n",
      "384     7\n",
      "300     7\n",
      "572     7\n",
      "       ..\n",
      "212     1\n",
      "422     1\n",
      "671     1\n",
      "589     1\n",
      "537     1\n",
      "Name: count, Length: 688, dtype: int64\n",
      "TotalBsmtSF\n",
      "864     25\n",
      "0       23\n",
      "672     15\n",
      "912     13\n",
      "728     12\n",
      "        ..\n",
      "2223     1\n",
      "1510     1\n",
      "1594     1\n",
      "611      1\n",
      "965      1\n",
      "Name: count, Length: 634, dtype: int64\n",
      "1stFlrSF\n",
      "864     16\n",
      "912     13\n",
      "1040    12\n",
      "848     10\n",
      "894     10\n",
      "        ..\n",
      "686      1\n",
      "1566     1\n",
      "1604     1\n",
      "1709     1\n",
      "1601     1\n",
      "Name: count, Length: 671, dtype: int64\n",
      "2ndFlrSF\n",
      "0       670\n",
      "728       7\n",
      "546       7\n",
      "672       6\n",
      "504       6\n",
      "       ... \n",
      "1017      1\n",
      "1589      1\n",
      "1060      1\n",
      "833       1\n",
      "1200      1\n",
      "Name: count, Length: 346, dtype: int64\n",
      "LowQualFinSF\n",
      "0      1150\n",
      "80        2\n",
      "360       2\n",
      "232       1\n",
      "205       1\n",
      "397       1\n",
      "420       1\n",
      "144       1\n",
      "572       1\n",
      "234       1\n",
      "371       1\n",
      "528       1\n",
      "515       1\n",
      "156       1\n",
      "390       1\n",
      "392       1\n",
      "514       1\n",
      "Name: count, dtype: int64\n",
      "GrLivArea\n",
      "864     14\n",
      "1040    10\n",
      "1456     9\n",
      "894      9\n",
      "848      8\n",
      "        ..\n",
      "1020     1\n",
      "2945     1\n",
      "1096     1\n",
      "1078     1\n",
      "3194     1\n",
      "Name: count, Length: 755, dtype: int64\n",
      "BsmtFullBath\n",
      "0    684\n",
      "1    472\n",
      "2     11\n",
      "3      1\n",
      "Name: count, dtype: int64\n",
      "BsmtHalfBath\n",
      "0    1102\n",
      "1      64\n",
      "2       2\n",
      "Name: count, dtype: int64\n",
      "FullBath\n",
      "2    610\n",
      "1    524\n",
      "3     27\n",
      "0      7\n",
      "Name: count, dtype: int64\n",
      "HalfBath\n",
      "0    725\n",
      "1    432\n",
      "2     11\n",
      "Name: count, dtype: int64\n",
      "BedroomAbvGr\n",
      "3    641\n",
      "2    281\n",
      "4    172\n",
      "1     46\n",
      "5     18\n",
      "6      5\n",
      "0      4\n",
      "8      1\n",
      "Name: count, dtype: int64\n",
      "KitchenAbvGr\n",
      "1    1113\n",
      "2      52\n",
      "3       2\n",
      "0       1\n",
      "Name: count, dtype: int64\n",
      "TotRmsAbvGrd\n",
      "6     319\n",
      "7     261\n",
      "5     220\n",
      "8     150\n",
      "4      80\n",
      "9      59\n",
      "10     38\n",
      "11     16\n",
      "3      15\n",
      "12      8\n",
      "14      1\n",
      "2       1\n",
      "Name: count, dtype: int64\n",
      "Fireplaces\n",
      "0    545\n",
      "1    520\n",
      "2     98\n",
      "3      5\n",
      "Name: count, dtype: int64\n",
      "GarageYrBlt\n",
      "2005.0    53\n",
      "2006.0    49\n",
      "2004.0    45\n",
      "2007.0    41\n",
      "2003.0    40\n",
      "          ..\n",
      "1927.0     1\n",
      "1908.0     1\n",
      "1933.0     1\n",
      "1947.0     1\n",
      "1942.0     1\n",
      "Name: count, Length: 95, dtype: int64\n",
      "GarageCars\n",
      "2    667\n",
      "1    288\n",
      "3    141\n",
      "0     69\n",
      "4      3\n",
      "Name: count, dtype: int64\n",
      "GarageArea\n",
      "0      69\n",
      "440    40\n",
      "576    35\n",
      "484    28\n",
      "528    26\n",
      "       ..\n",
      "675     1\n",
      "766     1\n",
      "788     1\n",
      "511     1\n",
      "379     1\n",
      "Name: count, Length: 399, dtype: int64\n",
      "WoodDeckSF\n",
      "0      624\n",
      "100     34\n",
      "192     29\n",
      "144     27\n",
      "120     25\n",
      "      ... \n",
      "169      1\n",
      "173      1\n",
      "229      1\n",
      "117      1\n",
      "185      1\n",
      "Name: count, Length: 239, dtype: int64\n",
      "OpenPorchSF\n",
      "0      517\n",
      "36      25\n",
      "20      18\n",
      "48      17\n",
      "45      17\n",
      "      ... \n",
      "250      1\n",
      "175      1\n",
      "92       1\n",
      "287      1\n",
      "238      1\n",
      "Name: count, Length: 186, dtype: int64\n",
      "EnclosedPorch\n",
      "0      999\n",
      "112     12\n",
      "192      5\n",
      "216      5\n",
      "96       5\n",
      "      ... \n",
      "37       1\n",
      "84       1\n",
      "34       1\n",
      "205      1\n",
      "138      1\n",
      "Name: count, Length: 107, dtype: int64\n",
      "3SsnPorch\n",
      "0      1150\n",
      "144       2\n",
      "508       1\n",
      "168       1\n",
      "140       1\n",
      "23        1\n",
      "153       1\n",
      "196       1\n",
      "216       1\n",
      "245       1\n",
      "238       1\n",
      "407       1\n",
      "320       1\n",
      "130       1\n",
      "290       1\n",
      "96        1\n",
      "180       1\n",
      "162       1\n",
      "Name: count, dtype: int64\n",
      "ScreenPorch\n",
      "0      1071\n",
      "192       6\n",
      "224       4\n",
      "180       4\n",
      "160       3\n",
      "       ... \n",
      "140       1\n",
      "60        1\n",
      "178       1\n",
      "128       1\n",
      "204       1\n",
      "Name: count, Length: 67, dtype: int64\n",
      "PoolArea\n",
      "0      1162\n",
      "480       1\n",
      "512       1\n",
      "738       1\n",
      "555       1\n",
      "648       1\n",
      "519       1\n",
      "Name: count, dtype: int64\n",
      "MiscVal\n",
      "0        1122\n",
      "400        10\n",
      "500         6\n",
      "700         5\n",
      "600         4\n",
      "2000        4\n",
      "450         2\n",
      "1200        2\n",
      "480         2\n",
      "1400        1\n",
      "800         1\n",
      "8300        1\n",
      "54          1\n",
      "3500        1\n",
      "620         1\n",
      "1150        1\n",
      "560         1\n",
      "15500       1\n",
      "2500        1\n",
      "350         1\n",
      "Name: count, dtype: int64\n",
      "MoSold\n",
      "6     205\n",
      "7     185\n",
      "5     162\n",
      "4     111\n",
      "8      98\n",
      "3      83\n",
      "10     68\n",
      "11     63\n",
      "9      52\n",
      "1      49\n",
      "12     48\n",
      "2      44\n",
      "Name: count, dtype: int64\n",
      "YrSold\n",
      "2009    271\n",
      "2007    267\n",
      "2008    245\n",
      "2006    243\n",
      "2010    142\n",
      "Name: count, dtype: int64\n",
      "SalePrice\n",
      "135000    13\n",
      "140000    12\n",
      "155000    12\n",
      "190000    11\n",
      "110000    11\n",
      "          ..\n",
      "184750     1\n",
      "164000     1\n",
      "383970     1\n",
      "165400     1\n",
      "359100     1\n",
      "Name: count, Length: 588, dtype: int64\n"
     ]
    }
   ],
   "source": [
    "cols=train_df_num.columns\n",
    "for i in cols:\n",
    "    print(train_df_num[i].value_counts())"
   ]
  },
  {
   "cell_type": "code",
   "execution_count": 17,
   "id": "88db866f",
   "metadata": {
    "execution": {
     "iopub.execute_input": "2024-11-20T12:37:42.024064Z",
     "iopub.status.busy": "2024-11-20T12:37:42.022975Z",
     "iopub.status.idle": "2024-11-20T12:37:43.601663Z",
     "shell.execute_reply": "2024-11-20T12:37:43.600447Z"
    },
    "papermill": {
     "duration": 1.594712,
     "end_time": "2024-11-20T12:37:43.604239",
     "exception": false,
     "start_time": "2024-11-20T12:37:42.009527",
     "status": "completed"
    },
    "tags": []
   },
   "outputs": [
    {
     "data": {
      "text/plain": [
       "<Axes: xlabel='YrSold', ylabel='count'>"
      ]
     },
     "execution_count": 17,
     "metadata": {},
     "output_type": "execute_result"
    },
    {
     "data": {
      "image/png": "[encoded data removed]",
      "text/plain": [
       "<Figure size 1200x800 with 8 Axes>"
      ]
     },
     "metadata": {},
     "output_type": "display_data"
    }
   ],
   "source": [
    "figure,((ax1,ax2),(ax3,ax4),(ax5,ax6),(ax7,ax8))=plt.subplots(nrows=4,ncols=2)\n",
    "figure.set_size_inches(12,8)\n",
    "sns.countplot(data=train_df,x='LowQualFinSF',ax=ax1)\n",
    "sns.countplot(data=train_df,x='BsmtFullBath',ax=ax2)\n",
    "sns.countplot(data=train_df,x='3SsnPorch',ax=ax3)\n",
    "sns.countplot(data=train_df,x='GarageCars',ax=ax4)\n",
    "sns.countplot(data=train_df,x='PoolArea',ax=ax5)\n",
    "sns.countplot(data=train_df,x='MiscVal',ax=ax6)\n",
    "sns.countplot(data=train_df,x='MoSold',ax=ax7)\n",
    "sns.countplot(data=train_df,x='YrSold',ax=ax8)"
   ]
  },
  {
   "cell_type": "code",
   "execution_count": 18,
   "id": "8beef5b6",
   "metadata": {
    "execution": {
     "iopub.execute_input": "2024-11-20T12:37:43.632708Z",
     "iopub.status.busy": "2024-11-20T12:37:43.632322Z",
     "iopub.status.idle": "2024-11-20T12:37:43.642253Z",
     "shell.execute_reply": "2024-11-20T12:37:43.641055Z"
    },
    "papermill": {
     "duration": 0.027113,
     "end_time": "2024-11-20T12:37:43.644617",
     "exception": false,
     "start_time": "2024-11-20T12:37:43.617504",
     "status": "completed"
    },
    "tags": []
   },
   "outputs": [
    {
     "data": {
      "text/plain": [
       "Id                 0\n",
       "MSSubClass         0\n",
       "LotFrontage      218\n",
       "LotArea            0\n",
       "OverallQual        0\n",
       "OverallCond        0\n",
       "YearBuilt          0\n",
       "YearRemodAdd       0\n",
       "MasVnrArea         8\n",
       "BsmtFinSF1         0\n",
       "BsmtFinSF2         0\n",
       "BsmtUnfSF          0\n",
       "TotalBsmtSF        0\n",
       "1stFlrSF           0\n",
       "2ndFlrSF           0\n",
       "LowQualFinSF       0\n",
       "GrLivArea          0\n",
       "BsmtFullBath       0\n",
       "BsmtHalfBath       0\n",
       "FullBath           0\n",
       "HalfBath           0\n",
       "BedroomAbvGr       0\n",
       "KitchenAbvGr       0\n",
       "TotRmsAbvGrd       0\n",
       "Fireplaces         0\n",
       "GarageYrBlt       69\n",
       "GarageCars         0\n",
       "GarageArea         0\n",
       "WoodDeckSF         0\n",
       "OpenPorchSF        0\n",
       "EnclosedPorch      0\n",
       "3SsnPorch          0\n",
       "ScreenPorch        0\n",
       "PoolArea           0\n",
       "MiscVal            0\n",
       "MoSold             0\n",
       "YrSold             0\n",
       "SalePrice          0\n",
       "dtype: int64"
      ]
     },
     "execution_count": 18,
     "metadata": {},
     "output_type": "execute_result"
    }
   ],
   "source": [
    "train_df_num.isnull().sum()"
   ]
  },
  {
   "cell_type": "code",
   "execution_count": 19,
   "id": "5d2aa9cb",
   "metadata": {
    "execution": {
     "iopub.execute_input": "2024-11-20T12:37:43.673278Z",
     "iopub.status.busy": "2024-11-20T12:37:43.672814Z",
     "iopub.status.idle": "2024-11-20T12:37:43.705126Z",
     "shell.execute_reply": "2024-11-20T12:37:43.703785Z"
    },
    "papermill": {
     "duration": 0.049659,
     "end_time": "2024-11-20T12:37:43.707672",
     "exception": false,
     "start_time": "2024-11-20T12:37:43.658013",
     "status": "completed"
    },
    "tags": []
   },
   "outputs": [],
   "source": [
    "train_df_num.fillna(train_df_num.mean,inplace=True)\n"
   ]
  },
  {
   "cell_type": "code",
   "execution_count": 20,
   "id": "3a8c2390",
   "metadata": {
    "execution": {
     "iopub.execute_input": "2024-11-20T12:37:43.735824Z",
     "iopub.status.busy": "2024-11-20T12:37:43.735418Z",
     "iopub.status.idle": "2024-11-20T12:37:43.745154Z",
     "shell.execute_reply": "2024-11-20T12:37:43.744143Z"
    },
    "papermill": {
     "duration": 0.026551,
     "end_time": "2024-11-20T12:37:43.747406",
     "exception": false,
     "start_time": "2024-11-20T12:37:43.720855",
     "status": "completed"
    },
    "tags": []
   },
   "outputs": [
    {
     "data": {
      "text/plain": [
       "Id               0\n",
       "MSSubClass       0\n",
       "LotFrontage      0\n",
       "LotArea          0\n",
       "OverallQual      0\n",
       "OverallCond      0\n",
       "YearBuilt        0\n",
       "YearRemodAdd     0\n",
       "MasVnrArea       0\n",
       "BsmtFinSF1       0\n",
       "BsmtFinSF2       0\n",
       "BsmtUnfSF        0\n",
       "TotalBsmtSF      0\n",
       "1stFlrSF         0\n",
       "2ndFlrSF         0\n",
       "LowQualFinSF     0\n",
       "GrLivArea        0\n",
       "BsmtFullBath     0\n",
       "BsmtHalfBath     0\n",
       "FullBath         0\n",
       "HalfBath         0\n",
       "BedroomAbvGr     0\n",
       "KitchenAbvGr     0\n",
       "TotRmsAbvGrd     0\n",
       "Fireplaces       0\n",
       "GarageYrBlt      0\n",
       "GarageCars       0\n",
       "GarageArea       0\n",
       "WoodDeckSF       0\n",
       "OpenPorchSF      0\n",
       "EnclosedPorch    0\n",
       "3SsnPorch        0\n",
       "ScreenPorch      0\n",
       "PoolArea         0\n",
       "MiscVal          0\n",
       "MoSold           0\n",
       "YrSold           0\n",
       "SalePrice        0\n",
       "dtype: int64"
      ]
     },
     "execution_count": 20,
     "metadata": {},
     "output_type": "execute_result"
    }
   ],
   "source": [
    "train_df_num.isnull().sum()"
   ]
  },
  {
   "cell_type": "code",
   "execution_count": 21,
   "id": "df54b79a",
   "metadata": {
    "execution": {
     "iopub.execute_input": "2024-11-20T12:37:43.776570Z",
     "iopub.status.busy": "2024-11-20T12:37:43.775600Z",
     "iopub.status.idle": "2024-11-20T12:37:43.787173Z",
     "shell.execute_reply": "2024-11-20T12:37:43.785915Z"
    },
    "papermill": {
     "duration": 0.02841,
     "end_time": "2024-11-20T12:37:43.789408",
     "exception": false,
     "start_time": "2024-11-20T12:37:43.760998",
     "status": "completed"
    },
    "tags": []
   },
   "outputs": [
    {
     "data": {
      "text/plain": [
       "MSZoning            0\n",
       "Street              0\n",
       "Alley            1098\n",
       "LotShape            0\n",
       "LandContour         0\n",
       "Utilities           0\n",
       "LotConfig           0\n",
       "LandSlope           0\n",
       "Neighborhood        0\n",
       "Condition1          0\n",
       "Condition2          0\n",
       "BldgType            0\n",
       "HouseStyle          0\n",
       "RoofStyle           0\n",
       "RoofMatl            0\n",
       "Exterior1st         0\n",
       "Exterior2nd         0\n",
       "MasVnrType        694\n",
       "ExterQual           0\n",
       "ExterCond           0\n",
       "Foundation          0\n",
       "BsmtQual           23\n",
       "BsmtCond           23\n",
       "BsmtExposure       24\n",
       "BsmtFinType1       23\n",
       "BsmtFinType2       24\n",
       "Heating             0\n",
       "HeatingQC           0\n",
       "CentralAir          0\n",
       "Electrical          1\n",
       "KitchenQual         0\n",
       "Functional          0\n",
       "FireplaceQu       545\n",
       "GarageType         69\n",
       "GarageFinish       69\n",
       "GarageQual         69\n",
       "GarageCond         69\n",
       "PavedDrive          0\n",
       "PoolQC           1162\n",
       "Fence             941\n",
       "MiscFeature      1120\n",
       "SaleType            0\n",
       "SaleCondition       0\n",
       "dtype: int64"
      ]
     },
     "execution_count": 21,
     "metadata": {},
     "output_type": "execute_result"
    }
   ],
   "source": [
    "train_df_obj.isnull().sum()"
   ]
  },
  {
   "cell_type": "code",
   "execution_count": 22,
   "id": "0d158ce7",
   "metadata": {
    "execution": {
     "iopub.execute_input": "2024-11-20T12:37:43.817835Z",
     "iopub.status.busy": "2024-11-20T12:37:43.817432Z",
     "iopub.status.idle": "2024-11-20T12:37:43.824876Z",
     "shell.execute_reply": "2024-11-20T12:37:43.823831Z"
    },
    "papermill": {
     "duration": 0.024414,
     "end_time": "2024-11-20T12:37:43.827194",
     "exception": false,
     "start_time": "2024-11-20T12:37:43.802780",
     "status": "completed"
    },
    "tags": []
   },
   "outputs": [
    {
     "data": {
      "text/plain": [
       "['Alley',\n",
       " 'MasVnrType',\n",
       " 'BsmtQual',\n",
       " 'BsmtCond',\n",
       " 'BsmtExposure',\n",
       " 'BsmtFinType1',\n",
       " 'BsmtFinType2',\n",
       " 'Electrical',\n",
       " 'FireplaceQu',\n",
       " 'GarageType',\n",
       " 'GarageFinish',\n",
       " 'GarageQual',\n",
       " 'GarageCond',\n",
       " 'PoolQC',\n",
       " 'Fence',\n",
       " 'MiscFeature']"
      ]
     },
     "execution_count": 22,
     "metadata": {},
     "output_type": "execute_result"
    }
   ],
   "source": [
    "cols=['Alley','MasVnrType','BsmtQual','BsmtCond','BsmtExposure','BsmtFinType1','BsmtFinType2','Electrical','FireplaceQu','GarageType','GarageFinish','GarageQual','GarageCond','PoolQC','Fence','MiscFeature']\n",
    "cols"
   ]
  },
  {
   "cell_type": "code",
   "execution_count": 23,
   "id": "5fdeb2e1",
   "metadata": {
    "execution": {
     "iopub.execute_input": "2024-11-20T12:37:43.856378Z",
     "iopub.status.busy": "2024-11-20T12:37:43.855963Z",
     "iopub.status.idle": "2024-11-20T12:37:43.913032Z",
     "shell.execute_reply": "2024-11-20T12:37:43.911801Z"
    },
    "papermill": {
     "duration": 0.074795,
     "end_time": "2024-11-20T12:37:43.915684",
     "exception": false,
     "start_time": "2024-11-20T12:37:43.840889",
     "status": "completed"
    },
    "tags": []
   },
   "outputs": [],
   "source": [
    "for col in cols:\n",
    "    frq=train_df_obj[col].value_counts().idxmax()\n",
    "    train_df_obj.fillna(frq,inplace=True)"
   ]
  },
  {
   "cell_type": "code",
   "execution_count": 24,
   "id": "346cb1a0",
   "metadata": {
    "execution": {
     "iopub.execute_input": "2024-11-20T12:37:43.944574Z",
     "iopub.status.busy": "2024-11-20T12:37:43.944182Z",
     "iopub.status.idle": "2024-11-20T12:37:43.953379Z",
     "shell.execute_reply": "2024-11-20T12:37:43.952232Z"
    },
    "papermill": {
     "duration": 0.026177,
     "end_time": "2024-11-20T12:37:43.955448",
     "exception": false,
     "start_time": "2024-11-20T12:37:43.929271",
     "status": "completed"
    },
    "tags": []
   },
   "outputs": [
    {
     "data": {
      "text/plain": [
       "Id                0\n",
       "MSSubClass        0\n",
       "LotFrontage      41\n",
       "LotArea           0\n",
       "OverallQual       0\n",
       "OverallCond       0\n",
       "YearBuilt         0\n",
       "YearRemodAdd      0\n",
       "MasVnrArea        0\n",
       "BsmtFinSF1        0\n",
       "BsmtFinSF2        0\n",
       "BsmtUnfSF         0\n",
       "TotalBsmtSF       0\n",
       "1stFlrSF          0\n",
       "2ndFlrSF          0\n",
       "LowQualFinSF      0\n",
       "GrLivArea         0\n",
       "BsmtFullBath      0\n",
       "BsmtHalfBath      0\n",
       "FullBath          0\n",
       "HalfBath          0\n",
       "BedroomAbvGr      0\n",
       "KitchenAbvGr      0\n",
       "TotRmsAbvGrd      0\n",
       "Fireplaces        0\n",
       "GarageYrBlt      12\n",
       "GarageCars        0\n",
       "GarageArea        0\n",
       "WoodDeckSF        0\n",
       "OpenPorchSF       0\n",
       "EnclosedPorch     0\n",
       "3SsnPorch         0\n",
       "ScreenPorch       0\n",
       "PoolArea          0\n",
       "MiscVal           0\n",
       "MoSold            0\n",
       "YrSold            0\n",
       "dtype: int64"
      ]
     },
     "execution_count": 24,
     "metadata": {},
     "output_type": "execute_result"
    }
   ],
   "source": [
    "test_num.isnull().sum()"
   ]
  },
  {
   "cell_type": "code",
   "execution_count": 25,
   "id": "fb6f0976",
   "metadata": {
    "execution": {
     "iopub.execute_input": "2024-11-20T12:37:43.984863Z",
     "iopub.status.busy": "2024-11-20T12:37:43.984474Z",
     "iopub.status.idle": "2024-11-20T12:37:44.005154Z",
     "shell.execute_reply": "2024-11-20T12:37:44.004126Z"
    },
    "papermill": {
     "duration": 0.038077,
     "end_time": "2024-11-20T12:37:44.007455",
     "exception": false,
     "start_time": "2024-11-20T12:37:43.969378",
     "status": "completed"
    },
    "tags": []
   },
   "outputs": [],
   "source": [
    "test_num.fillna(test_num.mean,inplace=True)\n"
   ]
  },
  {
   "cell_type": "code",
   "execution_count": 26,
   "id": "7f91911d",
   "metadata": {
    "execution": {
     "iopub.execute_input": "2024-11-20T12:37:44.036974Z",
     "iopub.status.busy": "2024-11-20T12:37:44.036563Z",
     "iopub.status.idle": "2024-11-20T12:37:44.045636Z",
     "shell.execute_reply": "2024-11-20T12:37:44.044523Z"
    },
    "papermill": {
     "duration": 0.026007,
     "end_time": "2024-11-20T12:37:44.047723",
     "exception": false,
     "start_time": "2024-11-20T12:37:44.021716",
     "status": "completed"
    },
    "tags": []
   },
   "outputs": [
    {
     "data": {
      "text/plain": [
       "Id               0\n",
       "MSSubClass       0\n",
       "LotFrontage      0\n",
       "LotArea          0\n",
       "OverallQual      0\n",
       "OverallCond      0\n",
       "YearBuilt        0\n",
       "YearRemodAdd     0\n",
       "MasVnrArea       0\n",
       "BsmtFinSF1       0\n",
       "BsmtFinSF2       0\n",
       "BsmtUnfSF        0\n",
       "TotalBsmtSF      0\n",
       "1stFlrSF         0\n",
       "2ndFlrSF         0\n",
       "LowQualFinSF     0\n",
       "GrLivArea        0\n",
       "BsmtFullBath     0\n",
       "BsmtHalfBath     0\n",
       "FullBath         0\n",
       "HalfBath         0\n",
       "BedroomAbvGr     0\n",
       "KitchenAbvGr     0\n",
       "TotRmsAbvGrd     0\n",
       "Fireplaces       0\n",
       "GarageYrBlt      0\n",
       "GarageCars       0\n",
       "GarageArea       0\n",
       "WoodDeckSF       0\n",
       "OpenPorchSF      0\n",
       "EnclosedPorch    0\n",
       "3SsnPorch        0\n",
       "ScreenPorch      0\n",
       "PoolArea         0\n",
       "MiscVal          0\n",
       "MoSold           0\n",
       "YrSold           0\n",
       "dtype: int64"
      ]
     },
     "execution_count": 26,
     "metadata": {},
     "output_type": "execute_result"
    }
   ],
   "source": [
    "test_num.isnull().sum()"
   ]
  },
  {
   "cell_type": "code",
   "execution_count": 27,
   "id": "95f78563",
   "metadata": {
    "execution": {
     "iopub.execute_input": "2024-11-20T12:37:44.077210Z",
     "iopub.status.busy": "2024-11-20T12:37:44.076786Z",
     "iopub.status.idle": "2024-11-20T12:37:44.086514Z",
     "shell.execute_reply": "2024-11-20T12:37:44.085419Z"
    },
    "papermill": {
     "duration": 0.02698,
     "end_time": "2024-11-20T12:37:44.088577",
     "exception": false,
     "start_time": "2024-11-20T12:37:44.061597",
     "status": "completed"
    },
    "tags": []
   },
   "outputs": [
    {
     "data": {
      "text/plain": [
       "MSZoning           0\n",
       "Street             0\n",
       "Alley            271\n",
       "LotShape           0\n",
       "LandContour        0\n",
       "Utilities          0\n",
       "LotConfig          0\n",
       "LandSlope          0\n",
       "Neighborhood       0\n",
       "Condition1         0\n",
       "Condition2         0\n",
       "BldgType           0\n",
       "HouseStyle         0\n",
       "RoofStyle          0\n",
       "RoofMatl           0\n",
       "Exterior1st        0\n",
       "Exterior2nd        0\n",
       "MasVnrType       178\n",
       "ExterQual          0\n",
       "ExterCond          0\n",
       "Foundation         0\n",
       "BsmtQual          14\n",
       "BsmtCond          14\n",
       "BsmtExposure      14\n",
       "BsmtFinType1      14\n",
       "BsmtFinType2      14\n",
       "Heating            0\n",
       "HeatingQC          0\n",
       "CentralAir         0\n",
       "Electrical         0\n",
       "KitchenQual        0\n",
       "Functional         0\n",
       "FireplaceQu      145\n",
       "GarageType        12\n",
       "GarageFinish      12\n",
       "GarageQual        12\n",
       "GarageCond        12\n",
       "PavedDrive         0\n",
       "PoolQC           291\n",
       "Fence            238\n",
       "MiscFeature      286\n",
       "SaleType           0\n",
       "SaleCondition      0\n",
       "dtype: int64"
      ]
     },
     "execution_count": 27,
     "metadata": {},
     "output_type": "execute_result"
    }
   ],
   "source": [
    "test_obj.isnull().sum()"
   ]
  },
  {
   "cell_type": "code",
   "execution_count": 28,
   "id": "b3eb5d84",
   "metadata": {
    "execution": {
     "iopub.execute_input": "2024-11-20T12:37:44.117971Z",
     "iopub.status.busy": "2024-11-20T12:37:44.117575Z",
     "iopub.status.idle": "2024-11-20T12:37:44.124822Z",
     "shell.execute_reply": "2024-11-20T12:37:44.123787Z"
    },
    "papermill": {
     "duration": 0.024417,
     "end_time": "2024-11-20T12:37:44.126877",
     "exception": false,
     "start_time": "2024-11-20T12:37:44.102460",
     "status": "completed"
    },
    "tags": []
   },
   "outputs": [
    {
     "data": {
      "text/plain": [
       "['Alley',\n",
       " 'MasVnrType',\n",
       " 'BsmtQual',\n",
       " 'BsmtCond',\n",
       " 'BsmtExposure',\n",
       " 'BsmtFinType1',\n",
       " 'BsmtFinType2',\n",
       " 'FireplaceQu',\n",
       " 'GarageType',\n",
       " 'GarageFinish',\n",
       " 'GarageQual',\n",
       " 'GarageCond',\n",
       " 'PoolQC',\n",
       " 'Fence',\n",
       " 'MiscFeature']"
      ]
     },
     "execution_count": 28,
     "metadata": {},
     "output_type": "execute_result"
    }
   ],
   "source": [
    "cols=['Alley','MasVnrType','BsmtQual','BsmtCond','BsmtExposure','BsmtFinType1','BsmtFinType2','FireplaceQu','GarageType','GarageFinish','GarageQual','GarageCond','PoolQC','Fence','MiscFeature']\n",
    "cols"
   ]
  },
  {
   "cell_type": "code",
   "execution_count": 29,
   "id": "53cf1814",
   "metadata": {
    "execution": {
     "iopub.execute_input": "2024-11-20T12:37:44.157176Z",
     "iopub.status.busy": "2024-11-20T12:37:44.156763Z",
     "iopub.status.idle": "2024-11-20T12:37:44.182323Z",
     "shell.execute_reply": "2024-11-20T12:37:44.181222Z"
    },
    "papermill": {
     "duration": 0.043877,
     "end_time": "2024-11-20T12:37:44.184891",
     "exception": false,
     "start_time": "2024-11-20T12:37:44.141014",
     "status": "completed"
    },
    "tags": []
   },
   "outputs": [],
   "source": [
    "for col in cols:\n",
    "    frq=test_obj[col].value_counts().idxmax()\n",
    "    test_obj.fillna(frq,inplace=True)"
   ]
  },
  {
   "cell_type": "code",
   "execution_count": 30,
   "id": "f1b407a0",
   "metadata": {
    "execution": {
     "iopub.execute_input": "2024-11-20T12:37:44.215155Z",
     "iopub.status.busy": "2024-11-20T12:37:44.214730Z",
     "iopub.status.idle": "2024-11-20T12:37:44.224347Z",
     "shell.execute_reply": "2024-11-20T12:37:44.223128Z"
    },
    "papermill": {
     "duration": 0.027374,
     "end_time": "2024-11-20T12:37:44.226500",
     "exception": false,
     "start_time": "2024-11-20T12:37:44.199126",
     "status": "completed"
    },
    "tags": []
   },
   "outputs": [
    {
     "data": {
      "text/plain": [
       "MSZoning         0\n",
       "Street           0\n",
       "Alley            0\n",
       "LotShape         0\n",
       "LandContour      0\n",
       "Utilities        0\n",
       "LotConfig        0\n",
       "LandSlope        0\n",
       "Neighborhood     0\n",
       "Condition1       0\n",
       "Condition2       0\n",
       "BldgType         0\n",
       "HouseStyle       0\n",
       "RoofStyle        0\n",
       "RoofMatl         0\n",
       "Exterior1st      0\n",
       "Exterior2nd      0\n",
       "MasVnrType       0\n",
       "ExterQual        0\n",
       "ExterCond        0\n",
       "Foundation       0\n",
       "BsmtQual         0\n",
       "BsmtCond         0\n",
       "BsmtExposure     0\n",
       "BsmtFinType1     0\n",
       "BsmtFinType2     0\n",
       "Heating          0\n",
       "HeatingQC        0\n",
       "CentralAir       0\n",
       "Electrical       0\n",
       "KitchenQual      0\n",
       "Functional       0\n",
       "FireplaceQu      0\n",
       "GarageType       0\n",
       "GarageFinish     0\n",
       "GarageQual       0\n",
       "GarageCond       0\n",
       "PavedDrive       0\n",
       "PoolQC           0\n",
       "Fence            0\n",
       "MiscFeature      0\n",
       "SaleType         0\n",
       "SaleCondition    0\n",
       "dtype: int64"
      ]
     },
     "execution_count": 30,
     "metadata": {},
     "output_type": "execute_result"
    }
   ],
   "source": [
    "test_obj.isnull().sum()"
   ]
  },
  {
   "cell_type": "code",
   "execution_count": 31,
   "id": "d7dc19ee",
   "metadata": {
    "execution": {
     "iopub.execute_input": "2024-11-20T12:37:44.258715Z",
     "iopub.status.busy": "2024-11-20T12:37:44.257262Z",
     "iopub.status.idle": "2024-11-20T12:37:44.272211Z",
     "shell.execute_reply": "2024-11-20T12:37:44.271108Z"
    },
    "papermill": {
     "duration": 0.033524,
     "end_time": "2024-11-20T12:37:44.274437",
     "exception": false,
     "start_time": "2024-11-20T12:37:44.240913",
     "status": "completed"
    },
    "tags": []
   },
   "outputs": [
    {
     "data": {
      "text/html": [
       "<div>\n",
       "<style scoped>\n",
       "    .dataframe tbody tr th:only-of-type {\n",
       "        vertical-align: middle;\n",
       "    }\n",
       "\n",
       "    .dataframe tbody tr th {\n",
       "        vertical-align: top;\n",
       "    }\n",
       "\n",
       "    .dataframe thead th {\n",
       "        text-align: right;\n",
       "    }\n",
       "</style>\n",
       "<table border=\"1\" class=\"dataframe\">\n",
       "  <thead>\n",
       "    <tr style=\"text-align: right;\">\n",
       "      <th></th>\n",
       "      <th>TotalSF</th>\n",
       "      <th>TotalBsmtSF</th>\n",
       "      <th>1stFlrSF</th>\n",
       "      <th>2ndFlrSF</th>\n",
       "    </tr>\n",
       "  </thead>\n",
       "  <tbody>\n",
       "    <tr>\n",
       "      <th>0</th>\n",
       "      <td>2196</td>\n",
       "      <td>1098</td>\n",
       "      <td>1098</td>\n",
       "      <td>0</td>\n",
       "    </tr>\n",
       "    <tr>\n",
       "      <th>1</th>\n",
       "      <td>2400</td>\n",
       "      <td>1200</td>\n",
       "      <td>1200</td>\n",
       "      <td>0</td>\n",
       "    </tr>\n",
       "    <tr>\n",
       "      <th>2</th>\n",
       "      <td>2249</td>\n",
       "      <td>1112</td>\n",
       "      <td>1137</td>\n",
       "      <td>0</td>\n",
       "    </tr>\n",
       "    <tr>\n",
       "      <th>3</th>\n",
       "      <td>3388</td>\n",
       "      <td>1694</td>\n",
       "      <td>1694</td>\n",
       "      <td>0</td>\n",
       "    </tr>\n",
       "    <tr>\n",
       "      <th>4</th>\n",
       "      <td>1596</td>\n",
       "      <td>672</td>\n",
       "      <td>672</td>\n",
       "      <td>252</td>\n",
       "    </tr>\n",
       "    <tr>\n",
       "      <th>...</th>\n",
       "      <td>...</td>\n",
       "      <td>...</td>\n",
       "      <td>...</td>\n",
       "      <td>...</td>\n",
       "    </tr>\n",
       "    <tr>\n",
       "      <th>1163</th>\n",
       "      <td>3444</td>\n",
       "      <td>1362</td>\n",
       "      <td>1362</td>\n",
       "      <td>720</td>\n",
       "    </tr>\n",
       "    <tr>\n",
       "      <th>1164</th>\n",
       "      <td>3405</td>\n",
       "      <td>1517</td>\n",
       "      <td>1888</td>\n",
       "      <td>0</td>\n",
       "    </tr>\n",
       "    <tr>\n",
       "      <th>1165</th>\n",
       "      <td>3182</td>\n",
       "      <td>1581</td>\n",
       "      <td>1601</td>\n",
       "      <td>0</td>\n",
       "    </tr>\n",
       "    <tr>\n",
       "      <th>1166</th>\n",
       "      <td>3036</td>\n",
       "      <td>1518</td>\n",
       "      <td>1518</td>\n",
       "      <td>0</td>\n",
       "    </tr>\n",
       "    <tr>\n",
       "      <th>1167</th>\n",
       "      <td>4159</td>\n",
       "      <td>965</td>\n",
       "      <td>1940</td>\n",
       "      <td>1254</td>\n",
       "    </tr>\n",
       "  </tbody>\n",
       "</table>\n",
       "<p>1168 rows × 4 columns</p>\n",
       "</div>"
      ],
      "text/plain": [
       "      TotalSF  TotalBsmtSF  1stFlrSF  2ndFlrSF\n",
       "0        2196         1098      1098         0\n",
       "1        2400         1200      1200         0\n",
       "2        2249         1112      1137         0\n",
       "3        3388         1694      1694         0\n",
       "4        1596          672       672       252\n",
       "...       ...          ...       ...       ...\n",
       "1163     3444         1362      1362       720\n",
       "1164     3405         1517      1888         0\n",
       "1165     3182         1581      1601         0\n",
       "1166     3036         1518      1518         0\n",
       "1167     4159          965      1940      1254\n",
       "\n",
       "[1168 rows x 4 columns]"
      ]
     },
     "execution_count": 31,
     "metadata": {},
     "output_type": "execute_result"
    }
   ],
   "source": [
    "train_df_num['TotalSF']=train_df_num['TotalBsmtSF']+train_df_num['1stFlrSF']+train_df_num['2ndFlrSF' ]\n",
    "train_df_num[['TotalSF','TotalBsmtSF','1stFlrSF','2ndFlrSF']]"
   ]
  },
  {
   "cell_type": "code",
   "execution_count": 32,
   "id": "17bcdf6b",
   "metadata": {
    "execution": {
     "iopub.execute_input": "2024-11-20T12:37:44.305553Z",
     "iopub.status.busy": "2024-11-20T12:37:44.305164Z",
     "iopub.status.idle": "2024-11-20T12:37:44.317158Z",
     "shell.execute_reply": "2024-11-20T12:37:44.316074Z"
    },
    "papermill": {
     "duration": 0.030292,
     "end_time": "2024-11-20T12:37:44.319230",
     "exception": false,
     "start_time": "2024-11-20T12:37:44.288938",
     "status": "completed"
    },
    "tags": []
   },
   "outputs": [
    {
     "data": {
      "text/html": [
       "<div>\n",
       "<style scoped>\n",
       "    .dataframe tbody tr th:only-of-type {\n",
       "        vertical-align: middle;\n",
       "    }\n",
       "\n",
       "    .dataframe tbody tr th {\n",
       "        vertical-align: top;\n",
       "    }\n",
       "\n",
       "    .dataframe thead th {\n",
       "        text-align: right;\n",
       "    }\n",
       "</style>\n",
       "<table border=\"1\" class=\"dataframe\">\n",
       "  <thead>\n",
       "    <tr style=\"text-align: right;\">\n",
       "      <th></th>\n",
       "      <th>SalePrice</th>\n",
       "      <th>TotalSF</th>\n",
       "    </tr>\n",
       "  </thead>\n",
       "  <tbody>\n",
       "    <tr>\n",
       "      <th>SalePrice</th>\n",
       "      <td>1.00000</td>\n",
       "      <td>0.76918</td>\n",
       "    </tr>\n",
       "    <tr>\n",
       "      <th>TotalSF</th>\n",
       "      <td>0.76918</td>\n",
       "      <td>1.00000</td>\n",
       "    </tr>\n",
       "  </tbody>\n",
       "</table>\n",
       "</div>"
      ],
      "text/plain": [
       "           SalePrice  TotalSF\n",
       "SalePrice    1.00000  0.76918\n",
       "TotalSF      0.76918  1.00000"
      ]
     },
     "execution_count": 32,
     "metadata": {},
     "output_type": "execute_result"
    }
   ],
   "source": [
    "train_df_num[['SalePrice','TotalSF']].corr()"
   ]
  },
  {
   "cell_type": "code",
   "execution_count": 33,
   "id": "a733cb28",
   "metadata": {
    "execution": {
     "iopub.execute_input": "2024-11-20T12:37:44.350984Z",
     "iopub.status.busy": "2024-11-20T12:37:44.350083Z",
     "iopub.status.idle": "2024-11-20T12:37:44.387337Z",
     "shell.execute_reply": "2024-11-20T12:37:44.386226Z"
    },
    "papermill": {
     "duration": 0.055868,
     "end_time": "2024-11-20T12:37:44.389531",
     "exception": false,
     "start_time": "2024-11-20T12:37:44.333663",
     "status": "completed"
    },
    "tags": []
   },
   "outputs": [
    {
     "data": {
      "text/plain": [
       "(1168, 220)"
      ]
     },
     "execution_count": 33,
     "metadata": {},
     "output_type": "execute_result"
    }
   ],
   "source": [
    "train_df_obj_dummies=pd.get_dummies(train_df_obj,drop_first=True)\n",
    "train_df_obj_dummies.shape"
   ]
  }
 ],
 "metadata": {
  "kaggle": {
   "accelerator": "none",
   "dataSources": [
    {
     "databundleVersionId": 10158206,
     "sourceId": 88657,
     "sourceType": "competition"
    }
   ],
   "dockerImageVersionId": 30786,
   "isGpuEnabled": false,
   "isInternetEnabled": true,
   "language": "python",
   "sourceType": "notebook"
  },
  "kernelspec": {
   "display_name": "Python 3",
   "language": "python",
   "name": "python3"
  },
  "language_info": {
   "codemirror_mode": {
    "name": "ipython",
    "version": 3
   },
   "file_extension": ".py",
   "mimetype": "text/x-python",
   "name": "python",
   "nbconvert_exporter": "python",
   "pygments_lexer": "ipython3",
   "version": "3.10.14"
  },
  "papermill": {
   "default_parameters": {},
   "duration": 11.224936,
   "end_time": "2024-11-20T12:37:45.125577",
   "environment_variables": {},
   "exception": null,
   "input_path": "__notebook__.ipynb",
   "output_path": "__notebook__.ipynb",
   "parameters": {},
   "start_time": "2024-11-20T12:37:33.900641",
   "version": "2.6.0"
  }
 },
 "nbformat": 4,
 "nbformat_minor": 5
}
